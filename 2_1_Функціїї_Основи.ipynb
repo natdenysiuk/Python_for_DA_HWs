{
 "cells": [
  {
   "cell_type": "markdown",
   "metadata": {
    "id": "QtHabST6Ez_n"
   },
   "source": [
    "# Домашнє завдання до теми \"Functions\""
   ]
  },
  {
   "cell_type": "markdown",
   "metadata": {
    "id": "6pg_NzFq5_kO"
   },
   "source": [
    "1. Напишіть фукнцію `print_message`, яка виводить на екран \"Я програмую на Python💪\" і викличіть цю фукнцію 5 разів (найкраще це зробити в циклі).\n",
    "\n",
    "  **Увага**: фукнція має робити чітко лише зазначений функціонал. Наявність додаткового функціоналу і аргументів, які не потрібні для виконання безпосередньо завдання, буде вважатись помилкою."
   ]
  },
  {
   "cell_type": "code",
   "execution_count": 59,
   "metadata": {},
   "outputs": [
    {
     "name": "stdout",
     "output_type": "stream",
     "text": [
      "Я програмую на Python💪\n",
      "Я програмую на Python💪\n",
      "Я програмую на Python💪\n",
      "Я програмую на Python💪\n",
      "Я програмую на Python💪\n"
     ]
    }
   ],
   "source": [
    "def print_message():\n",
    "    message = \"Я програмую на Python💪\"\n",
    "    print(message)\n",
    "for _ in range(5):\n",
    "    print_message()"
   ]
  },
  {
   "cell_type": "markdown",
   "metadata": {
    "id": "oyRpWRXWBL9N"
   },
   "source": [
    "2. Напишіть функцію `calculation` яка приймає на вхід 4 аргументи типу int - `a`, `b`, `c`, `d` і вертає результат обчислення такої формули: $ (a + b - c) * d $.\n",
    "\n",
    "  Викличте функцію на наступному наборі аргументів і виведіть результат на екран:\n",
    "  ```\n",
    "  a = 16\n",
    "  b = 4\n",
    "  c = 9\n",
    "  d = 3\n",
    "  ```"
   ]
  },
  {
   "cell_type": "code",
   "execution_count": 171,
   "metadata": {},
   "outputs": [
    {
     "name": "stdout",
     "output_type": "stream",
     "text": [
      "1022976\n"
     ]
    }
   ],
   "source": [
    "def calculation(a: int, b: int, c: int, d: int) -> int:\n",
    "    return (a + b - c) * d\n",
    "    result = calculation(a = 16, b = 4, c = 9, d = 3)\n",
    "print(result)"
   ]
  },
  {
   "cell_type": "markdown",
   "metadata": {
    "id": "5hf1CbllDU_t"
   },
   "source": [
    "3. Напишіть функцію, яка додає до аргумента 15 і вертає результат додавання. Викличте функцію, передаючи в якості аргументів кожну з наступних змінних по черзі, і виведіть кожного разу результат на екран.\n",
    "```\n",
    "x = 9\n",
    "y = 14\n",
    "z = -19\n",
    "```"
   ]
  },
  {
   "cell_type": "code",
   "execution_count": 173,
   "metadata": {
    "id": "GvEs_nUtD_Cd"
   },
   "outputs": [
    {
     "name": "stdout",
     "output_type": "stream",
     "text": [
      "24\n",
      "29\n",
      "-4\n"
     ]
    }
   ],
   "source": [
    "def add_fifteen(number):\n",
    "    return number + 15\n",
    "    x = 9\n",
    "    y = 14\n",
    "    z = -19\n",
    "print(add_fifteen(x))\n",
    "print(add_fifteen(y))\n",
    "print(add_fifteen(z))"
   ]
  },
  {
   "cell_type": "code",
   "execution_count": 175,
   "metadata": {},
   "outputs": [
    {
     "name": "stdout",
     "output_type": "stream",
     "text": [
      "24\n",
      "29\n",
      "-4\n"
     ]
    }
   ],
   "source": [
    "# альтернативне рішення через цикл\n",
    "def add_fifteen(number):\n",
    "    return number + 15\n",
    "    numbers = [x == 9, y == 14, z == -19]\n",
    "for number in numbers:\n",
    "    print(add_fifteen(number))"
   ]
  },
  {
   "cell_type": "markdown",
   "metadata": {
    "id": "bUuVBhie53uK"
   },
   "source": [
    "4. Напишіть функцію `multipy_numbers`, яка приймає два числа як аргументи і повертає їх добуток.\n",
    "\n",
    "  Викличіть функцію `multipy_numbers` на парах чисел\n",
    "    - 10 і 2\n",
    "    - 7 і 8\n",
    "    - 1024 і 999.\n",
    "  \n",
    "  Виведіть результат кожного виклику.\n",
    "  При виконанні цього завдання з використанням циклу - отримаєте 2х балів за нього :)"
   ]
  },
  {
   "cell_type": "code",
   "execution_count": 177,
   "metadata": {
    "id": "cDqrgZ4YEAKj"
   },
   "outputs": [
    {
     "name": "stdout",
     "output_type": "stream",
     "text": [
      "20\n",
      "56\n",
      "1022976\n"
     ]
    }
   ],
   "source": [
    "def multiply_numbers(a, b):\n",
    "    return a * b\n",
    "    numbers_pair = [(10, 2), (7, 8), (1024, 999)]\n",
    "for a, b in numbers_pair:\n",
    "    result = multiply_numbers(a, b)\n",
    "    print(result)"
   ]
  },
  {
   "cell_type": "markdown",
   "metadata": {
    "id": "I03t46k27dDZ"
   },
   "source": [
    "5. **Ділення з перевіркою типів.**  \n",
    "\n",
    "  1. Напишіть функцію `int_division` яка приймає на вхід два аргументи типу `int` - `a` і `b`, і виконує ділення першого аргумента на другий: `a/b`. При цьому функція перед діленням перевіряє, чи другий аргумент не дорівнює 0. Якщо другий аргумент не 0, фукнція вертає результат ділення, інакше - замість виконання ділення, вертає повідомлення на екран \"Не можу виконати ділення на 0\".\n",
    "\n",
    "    Якщо типи, надані у функцію, не `int` - функція виводить повідомлення \"Не працюю з такими типами даних.\".\n",
    "\n",
    "  2. Запустіть функцію на наступних парах чисел:\n",
    "  - 12 і 6\n",
    "  - 20 і 0\n",
    "  - 112 і 10\n",
    "  - 99 і 0\n",
    "  - 11 i 1.1\n",
    "\n",
    "    і виведіть на екран повідомлення \"Результат роботи функції: \" - і далі те, що повернула функція.\n",
    "\n",
    "  3. Дайте відповідь на питання: \"Чому в деяких випадках функція повернула None?\""
   ]
  },
  {
   "cell_type": "code",
   "execution_count": 219,
   "metadata": {
    "id": "1-EQhxrAEEAb"
   },
   "outputs": [],
   "source": [
    "def int_division(a, b):\n",
    "    if not (isinstance(a, int) and isinstance(b, int)):\n",
    "        print(\"Не працюю з такими типами даних.\")\n",
    "        return\n",
    "    if b == 0:\n",
    "        print(\"Не можу виконати ділення на 0\")\n",
    "        return\n",
    "    return a // b \n",
    "    print(int_division(a, b))  # 1й підпункт"
   ]
  },
  {
   "cell_type": "code",
   "execution_count": 221,
   "metadata": {},
   "outputs": [
    {
     "name": "stdout",
     "output_type": "stream",
     "text": [
      "Результат роботи функції: 2\n",
      "Не можу виконати ділення на 0\n",
      "Результат роботи функції: None\n",
      "Результат роботи функції: 11\n",
      "Не можу виконати ділення на 0\n",
      "Результат роботи функції: None\n",
      "Не працюю з такими типами даних.\n",
      "Результат роботи функції: None\n"
     ]
    }
   ],
   "source": [
    "numbers_pairs = [(12, 6), (20, 0), (112, 10), (99, 0), (11, 1.1)]\n",
    "for a, b in numbers_pairs:\n",
    "    result = int_division(a, b)\n",
    "    print(f\"Результат роботи функції: {result}\")  # 2-й підпункт"
   ]
  },
  {
   "cell_type": "code",
   "execution_count": 215,
   "metadata": {},
   "outputs": [],
   "source": [
    "# 3й підпункт - на мою думку, фунцeія в цьому завданні може повертати None, коли один чи два аргументи не є цілими числами, також коли другий аргумент є нулем і ділення не відбувається - в обох випадках відсутній конкретний return, а замість нього помилкове значення показує print"
   ]
  }
 ],
 "metadata": {
  "colab": {
   "provenance": []
  },
  "kernelspec": {
   "display_name": "Python 3 (ipykernel)",
   "language": "python",
   "name": "python3"
  },
  "language_info": {
   "codemirror_mode": {
    "name": "ipython",
    "version": 3
   },
   "file_extension": ".py",
   "mimetype": "text/x-python",
   "name": "python",
   "nbconvert_exporter": "python",
   "pygments_lexer": "ipython3",
   "version": "3.12.4"
  }
 },
 "nbformat": 4,
 "nbformat_minor": 4
}
